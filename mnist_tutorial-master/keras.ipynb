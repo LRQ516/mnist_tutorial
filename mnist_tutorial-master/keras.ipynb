{
 "cells": [
  {
   "cell_type": "markdown",
   "metadata": {},
   "source": [
    "# Keras Tutorial"
   ]
  },
  {
   "cell_type": "markdown",
   "metadata": {},
   "source": [
    "Keras is a popular deep learning framework and it's easy to get started."
   ]
  },
  {
   "cell_type": "code",
   "execution_count": 11,
   "metadata": {},
   "outputs": [],
   "source": [
    "import keras\n",
    "from keras.datasets import mnist\n",
    "from keras.models import Sequential\n",
    "from keras.layers import Dense, Dropout, Flatten, Conv2D, MaxPooling2D\n",
    "from keras.optimizers import SGD\n",
    "BATCH_SIZE = 128\n",
    "NUM_CLASSES = 10\n",
    "NUM_EPOCHS = 10"
   ]
  },
  {
   "cell_type": "markdown",
   "metadata": {},
   "source": [
    "First, we read the mnist data and preprocess them."
   ]
  },
  {
   "cell_type": "code",
   "execution_count": 12,
   "metadata": {},
   "outputs": [],
   "source": [
    "# download and load the data (split them between train and test sets)\n",
    "(x_train, y_train), (x_test, y_test) = mnist.load_data()\n",
    "\n",
    "# expand the channel dimension\n",
    "x_train = x_train.reshape(x_train.shape[0], 28, 28, 1)\n",
    "x_test = x_test.reshape(x_test.shape[0], 28, 28, 1)\n",
    "input_shape = (28, 28, 1)\n",
    "\n",
    "# make the value of pixels from [0, 255] to [0, 1] for further process\n",
    "x_train = x_train.astype('float32') / 255.\n",
    "x_test = x_test.astype('float32') / 255.\n",
    "\n",
    "# convert class vectors to binary class matrics\n",
    "y_train = keras.utils.to_categorical(y_train, NUM_CLASSES)\n",
    "y_test = keras.utils.to_categorical(y_test, NUM_CLASSES)"
   ]
  },
  {
   "cell_type": "markdown",
   "metadata": {},
   "source": [
    "Then, we define the model, object function and optimizer that we use to classify."
   ]
  },
  {
   "cell_type": "code",
   "execution_count": 16,
   "metadata": {},
   "outputs": [],
   "source": [
    "# define the model\n",
    "model = Sequential()\n",
    "model.add(Conv2D(32,(5,5),activation='relu',input_shape=(28,28,1)))\n",
    "model.add(MaxPooling2D(pool_size=(2,2)))\n",
    "model.add(Conv2D(64,(5,5),activation='relu'))\n",
    "model.add(MaxPooling2D(pool_size=(2,2)))\n",
    "\n",
    "model.add(Flatten())\n",
    "model.add(Dense(128,activation='relu'))\n",
    "model.add(Dropout(0.25))\n",
    "model.add(Dense(10,activation='softmax'))\n",
    "# define the object function, optimizer and metrics\n",
    "sgd=SGD(lr=0.01,decay=1e-6, momentum=0.9, nesterov=True)\n",
    "model.compile(loss='categorical_crossentropy',optimizer=sgd,metrics=['accuracy'])"
   ]
  },
  {
   "cell_type": "markdown",
   "metadata": {},
   "source": [
    "Next, we can start to train and evaluate!"
   ]
  },
  {
   "cell_type": "code",
   "execution_count": 17,
   "metadata": {},
   "outputs": [
    {
     "name": "stdout",
     "output_type": "stream",
     "text": [
      "Epoch 1/10\n",
      "60000/60000 [==============================] - 27s 454us/step - loss: 0.3467 - accuracy: 0.8938\n",
      "Epoch 2/10\n",
      "60000/60000 [==============================] - 32s 528us/step - loss: 0.0996 - accuracy: 0.9697\n",
      "Epoch 3/10\n",
      "60000/60000 [==============================] - 32s 540us/step - loss: 0.0745 - accuracy: 0.9771\n",
      "Epoch 4/10\n",
      "60000/60000 [==============================] - 32s 533us/step - loss: 0.0605 - accuracy: 0.9810\n",
      "Epoch 5/10\n",
      "60000/60000 [==============================] - 31s 522us/step - loss: 0.0519 - accuracy: 0.9846\n",
      "Epoch 6/10\n",
      "60000/60000 [==============================] - 32s 525us/step - loss: 0.0449 - accuracy: 0.9862\n",
      "Epoch 7/10\n",
      "60000/60000 [==============================] - 31s 525us/step - loss: 0.0393 - accuracy: 0.9875\n",
      "Epoch 8/10\n",
      "60000/60000 [==============================] - 32s 525us/step - loss: 0.0349 - accuracy: 0.9891\n",
      "Epoch 9/10\n",
      "60000/60000 [==============================] - 31s 523us/step - loss: 0.0312 - accuracy: 0.9901\n",
      "Epoch 10/10\n",
      "60000/60000 [==============================] - 31s 520us/step - loss: 0.0292 - accuracy: 0.9906\n",
      "60000/60000 [==============================] - 9s 150us/step\n",
      "Training loss: 1.5615, Training accuracy: 99.54%\n",
      "10000/10000 [==============================] - 1s 146us/step\n",
      "Testing loss: 2.5077, Testing accuracy: 99.23%\n"
     ]
    }
   ],
   "source": [
    "# train\n",
    "model.fit(x_train,y_train,batch_size=BATCH_SIZE,epochs=NUM_EPOCHS)\n",
    "\n",
    "# evaluate\n",
    "score_train = model.evaluate(x_train,y_train,batch_size=BATCH_SIZE)\n",
    "print('Training loss: %.4f, Training accuracy: %.2f%%' % (score_train[0]*100,score_train[1]*100))\n",
    "\n",
    "score_test = model.evaluate(x_test,y_test,batch_size=BATCH_SIZE)\n",
    "print('Testing loss: %.4f, Testing accuracy: %.2f%%' % (score_test[0]*100,score_test[1]*100))"
   ]
  },
  {
   "cell_type": "markdown",
   "metadata": {},
   "source": [
    "#### Q6:\n",
    "Please print the training and testing accuracy."
   ]
  },
  {
   "cell_type": "code",
   "execution_count": 18,
   "metadata": {},
   "outputs": [
    {
     "name": "stdout",
     "output_type": "stream",
     "text": [
      "Training loss: 1.5615, Training accuracy: 99.54%\n",
      "Testing loss: 2.5077, Testing accuracy: 99.23%\n"
     ]
    }
   ],
   "source": [
    "print('Training loss: %.4f, Training accuracy: %.2f%%' % (score_train[0]*100,score_train[1]*100))\n",
    "print('Testing loss: %.4f, Testing accuracy: %.2f%%' % (score_test[0]*100,score_test[1]*100))"
   ]
  }
 ],
 "metadata": {
  "kernelspec": {
   "display_name": "Python 3",
   "language": "python",
   "name": "python3"
  },
  "language_info": {
   "codemirror_mode": {
    "name": "ipython",
    "version": 3
   },
   "file_extension": ".py",
   "mimetype": "text/x-python",
   "name": "python",
   "nbconvert_exporter": "python",
   "pygments_lexer": "ipython3",
   "version": "3.7.2"
  }
 },
 "nbformat": 4,
 "nbformat_minor": 2
}
